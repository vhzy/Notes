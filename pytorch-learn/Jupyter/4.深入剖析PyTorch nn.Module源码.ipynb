{
 "cells": [
  {
   "cell_type": "markdown",
   "metadata": {},
   "source": [
    "# 4.深入剖析PyTorch nn.Module源码\n",
    "\n",
    "知乎上有pytorch源码解读系列，推荐一下[OpenMMLab](https://zhuanlan.zhihu.com/p/340453841)的专栏\n",
    "\n",
    "B站up主deep_thoughts认为:\n",
    "\"这期视频是写PyTorch代码少走弯路的必看视频，源码角度去理解nn.Module模块的视频，nn.Module是PyTorch几乎所有模块的核心父类，看完本期视频，会对PyTorch代码有全新的认识，看过的都说收获很大并且是全b站唯一一个此类视频 \"接下来是笔记：\n",
    "\n",
    "`Module`是所有神经网络模块的基类。 我们自己的模型也应该继承这个类。 模块还可以包含其他模块，允许将它们嵌套在树结构中。"
   ]
  },
  {
   "cell_type": "code",
   "execution_count": 1,
   "metadata": {},
   "outputs": [],
   "source": [
    "import torch.nn as nn\n",
    "import torch.nn.functional as F\n",
    "\n",
    "class Model(nn.Module):\n",
    "    def __init__(self):\n",
    "        '''\n",
    "        必须在对子类进行赋值之前对父类进行 __init__() 调用。\n",
    "        '''\n",
    "        super().__init__()\n",
    "        self.conv1 = nn.Conv2d(1, 20, 5) #这里卷积层作为被包含的模块\n",
    "        self.conv2 = nn.Conv2d(20, 20, 5)\n",
    "\n",
    "    def forward(self, x):\n",
    "        x = F.relu(self.conv1(x))\n",
    "        return F.relu(self.conv2(x))"
   ]
  },
  {
   "cell_type": "markdown",
   "metadata": {},
   "source": [
    "## Module的方法：\n",
    "1. add_module(name, module) 为模块增加子模块，通过'.'访问;\n",
    "2. apply(fn) 函数作为参数，可以递归的应用到子模块中（可通过`.children()`返回的子模块），通常用于初始化;\n",
    "   "
   ]
  },
  {
   "cell_type": "code",
   "execution_count": 4,
   "metadata": {},
   "outputs": [
    {
     "name": "stdout",
     "output_type": "stream",
     "text": [
      "Linear(in_features=2, out_features=2, bias=True)\n",
      "Parameter containing:\n",
      "tensor([[1., 1.],\n",
      "        [1., 1.]], requires_grad=True) \n",
      "\n",
      "Linear(in_features=2, out_features=2, bias=True)\n",
      "Parameter containing:\n",
      "tensor([[1., 1.],\n",
      "        [1., 1.]], requires_grad=True) \n",
      "\n",
      "Sequential(\n",
      "  (0): Linear(in_features=2, out_features=2, bias=True)\n",
      "  (1): Linear(in_features=2, out_features=2, bias=True)\n",
      ")\n"
     ]
    },
    {
     "data": {
      "text/plain": [
       "Sequential(\n",
       "  (0): Linear(in_features=2, out_features=2, bias=True)\n",
       "  (1): Linear(in_features=2, out_features=2, bias=True)\n",
       ")"
      ]
     },
     "execution_count": 4,
     "metadata": {},
     "output_type": "execute_result"
    }
   ],
   "source": [
    "import torch\n",
    "@torch.no_grad()#修饰符，对下面的函数不需要计算梯度\n",
    "def init_weights(m):\n",
    "    print(m)\n",
    "    if type(m) == nn.Linear:\n",
    "        m.weight.fill_(1.0)\n",
    "        print(m.weight,\"\\n\")\n",
    "net = nn.Sequential(nn.Linear(2, 2), nn.Linear(2, 2))\n",
    "net.apply(init_weights)"
   ]
  },
  {
   "cell_type": "markdown",
   "metadata": {},
   "source": [
    "3. buffers(recurse=True) 每个参数都有附属的统计量，这边称作buffer，tensorflow称为槽变量\n",
    "之后还会有介绍"
   ]
  },
  {
   "cell_type": "code",
   "execution_count": null,
   "metadata": {},
   "outputs": [],
   "source": [
    "for buf in model.buffers():\n",
    "    print(type(buf), buf.size())"
   ]
  },
  {
   "cell_type": "markdown",
   "metadata": {},
   "source": [
    "4. eval()设置验证模式，与训练模式的`Dropout`,`BatchNorm`不同\n",
    "5. load_state_dict(state_dict, strict=True)\n",
    "state_dict存储模型的所有参数和buffer，加载模型时使用，从静态字典中加载.\n",
    "6. requires_grad_(requires_grad=True)设置是否需要梯度更新，finetune时很有用."
   ]
  },
  {
   "cell_type": "markdown",
   "metadata": {},
   "source": [
    "这里插入说一下`state_dict`和模型保存\n"
   ]
  },
  {
   "cell_type": "code",
   "execution_count": null,
   "metadata": {},
   "outputs": [],
   "source": [
    "#保存checkpoint\n",
    "torch.save({\n",
    "            'epoch': epoch,\n",
    "            'model_state_dict': model.state_dict(),#保存参数和buffer，可以用于推理\n",
    "            'optimizer_state_dict': optimizer.state_dict(),#优化器\n",
    "            'loss': loss,\n",
    "            ...\n",
    "            }, PATH)\n",
    "            \n",
    "#加载checkpoint\n",
    "model = TheModelClass(*args, **kwargs)\n",
    "optimizer = TheOptimizerClass(*args, **kwargs)\n",
    "\n",
    "checkpoint = torch.load(PATH)\n",
    "model.load_state_dict(checkpoint['model_state_dict'])\n",
    "optimizer.load_state_dict(checkpoint['optimizer_state_dict'])\n",
    "epoch = checkpoint['epoch']\n",
    "loss = checkpoint['loss']\n",
    "\n",
    "model.eval()\n",
    "# - or -\n",
    "model.train()"
   ]
  },
  {
   "cell_type": "markdown",
   "metadata": {},
   "source": [
    "## Module python源码解读"
   ]
  },
  {
   "cell_type": "markdown",
   "metadata": {},
   "source": [
    "位置:torch\\nn\\modules\\module.py 204行~end(1800行左右)\n",
    "挑选用的比较多的函数，讲解原理\n",
    "\n",
    "``1.__init__``\n",
    "\n",
    "``2.register_buffer`` \n",
    "`  def register_buffer(self, name: str, tensor: Optional[Tensor], persistent: bool = True) -> None:`\n",
    "向当前模块添加buffer变量\n",
    "buffer默认是持久的，可以和参数一样保存下来\n",
    "常用于BatchNorm里面running_mean这些统计量，自己实现：\n",
    "```python\n",
    "class BatchNorm(nn.Module):\n",
    "    def __init__(self):\n",
    "        self.register_buffer('running_mean', torch.zeros(num_features))\n",
    "        self.register_buffer('running_variance', torch.ones(num_features))\n",
    "```\n",
    "\n",
    "``3.register_parameter``\n",
    "使用频率比`register_buffer`更高 \n",
    "`def register_parameter(self, name: str, param: Optional[Parameter]) -> None:` \n",
    "[Parameter](https://pytorch.org/docs/stable/generated/torch.nn.parameter.Parameter.html)类型是tensor类型的继承，模块中定义参数都要写成parameter的实例\n",
    "在module中写一个Parameter实例会自动添加到Patameters的列表中，无需手动添加，实例：\n",
    "```python\n",
    "class GaussianModel(nn.Module):\n",
    "    def __init__(self):\n",
    "        super(GaussianModel, self).__init__()\n",
    "\n",
    "        self.register_parameter('mean',nn.Parameter(torch.zeors(1),requires_grad = True))\n",
    "\n",
    "        self.pdf = torch.distributions.Normal(self.state_dict()['means'],torch.tensor([1.0]))\n",
    "\n",
    "    def forward(self, x):\n",
    "        return -self.pdf.log_prob(x)\n",
    "\n",
    "model = GaussianModel()\n",
    "```\n",
    "``4.get_submodule`` 通过字符串获得子模块\n",
    "\n",
    "``5.get_parameter`` 通过字符串获得参数\n",
    "\n",
    "``6.get_buffer`` 通过字符串获得buffer\n",
    "\n",
    "``7.apply`` 将方法递归应用到每个子模块 \n",
    "\n",
    "\n"
   ]
  },
  {
   "cell_type": "code",
   "execution_count": null,
   "metadata": {},
   "outputs": [],
   "source": []
  },
  {
   "cell_type": "code",
   "execution_count": null,
   "metadata": {},
   "outputs": [],
   "source": []
  },
  {
   "cell_type": "code",
   "execution_count": null,
   "metadata": {},
   "outputs": [],
   "source": []
  },
  {
   "cell_type": "code",
   "execution_count": null,
   "metadata": {},
   "outputs": [],
   "source": []
  }
 ],
 "metadata": {
  "kernelspec": {
   "display_name": "Python 3.8.5 ('base')",
   "language": "python",
   "name": "python3"
  },
  "language_info": {
   "codemirror_mode": {
    "name": "ipython",
    "version": 3
   },
   "file_extension": ".py",
   "mimetype": "text/x-python",
   "name": "python",
   "nbconvert_exporter": "python",
   "pygments_lexer": "ipython3",
   "version": "3.8.5"
  },
  "orig_nbformat": 4,
  "vscode": {
   "interpreter": {
    "hash": "88279d2366fe020547cde40dd65aa0e3aa662a6ec1f3ca12d88834876c85e1a6"
   }
  }
 },
 "nbformat": 4,
 "nbformat_minor": 2
}
