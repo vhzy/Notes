{
 "cells": [
  {
   "cell_type": "code",
   "execution_count": 2,
   "metadata": {},
   "outputs": [],
   "source": [
    "#官网示例\n",
    "import torch\n",
    "\n",
    "import torch.nn as nn\n",
    "rnn = nn.RNN(10, 20, 2) #input_size * hidden_size * num_layers\n",
    "input = torch.randn(5, 3, 10) #seq_len * batch_size * input_size\n",
    "h0 = torch.randn(2, 3, 20) #D*numlayers, batch_size, hidden_size 单向D=1,双向D=2\n",
    "output, hn = rnn(input, h0) #"
   ]
  },
  {
   "cell_type": "code",
   "execution_count": 3,
   "metadata": {},
   "outputs": [
    {
     "name": "stdout",
     "output_type": "stream",
     "text": [
      "tensor([[[ 0.2096, -0.0761,  0.5804],\n",
      "         [ 0.5766, -0.2917,  0.8847]]], grad_fn=<TransposeBackward1>)\n",
      "tensor([[[ 0.5766, -0.2917,  0.8847]]], grad_fn=<StackBackward>)\n"
     ]
    }
   ],
   "source": [
    "import torch\n",
    "# 单向、单层RNN\n",
    "import torch.nn as nn\n",
    "# 1.单向、单层RNN\n",
    "single_rnn = nn.RNN(4, 3, 1,batch_first = True)\n",
    "input = torch.randn(1, 2, 4)  #bs * sl *feature_size\n",
    "output, h_n = single_rnn(input, )\n",
    "print(output)  # 1* 2* 3 bs*sl*output_size\n",
    "print(h_n) #1*1*3  1*1,1,output_size"
   ]
  },
  {
   "cell_type": "code",
   "execution_count": 5,
   "metadata": {},
   "outputs": [
    {
     "name": "stdout",
     "output_type": "stream",
     "text": [
      "torch.Size([1, 2, 6])\n",
      "torch.Size([2, 1, 3])\n"
     ]
    }
   ],
   "source": [
    "#2.双向、单层RNN\n",
    "from unicodedata import bidirectional\n",
    "\n",
    "bidirectional_rnn = nn.RNN(4,3,1,batch_first = True, bidirectional = True)\n",
    "bi_output,bi_h_n = bidirectional_rnn(input)\n",
    "print(bi_output.shape)  #1,2,6 6是因为最后把forward和backward layer两个输出拼起来\n",
    "print(bi_h_n.shape)   #2,1,3\n"
   ]
  },
  {
   "cell_type": "markdown",
   "metadata": {},
   "source": [
    "$$\n",
    "h_{t}=\\tanh \\left(x_{t} W_{i h}^{T}+b_{i h}+h_{t-1} W_{h h}^{T}+b_{h h}\\right)\n",
    "$$"
   ]
  },
  {
   "cell_type": "code",
   "execution_count": 24,
   "metadata": {},
   "outputs": [
    {
     "name": "stdout",
     "output_type": "stream",
     "text": [
      "tensor([[[-0.0717,  0.7278,  0.1232],\n",
      "         [ 0.0612,  0.2570, -0.5203],\n",
      "         [-0.5873,  0.3653,  0.3944]],\n",
      "\n",
      "        [[-0.6452,  0.1224,  0.5377],\n",
      "         [-0.5038,  0.2123,  0.0262],\n",
      "         [ 0.2256,  0.7519, -0.4472]]], grad_fn=<TransposeBackward1>)\n",
      "tensor([[[-0.5873,  0.3653,  0.3944],\n",
      "         [ 0.2256,  0.7519, -0.4472]]], grad_fn=<StackBackward>)\n",
      "tensor([[[-0.0717,  0.7278,  0.1232],\n",
      "         [ 0.0612,  0.2570, -0.5203],\n",
      "         [-0.5873,  0.3653,  0.3944]],\n",
      "\n",
      "        [[-0.6452,  0.1224,  0.5377],\n",
      "         [-0.5038,  0.2123,  0.0262],\n",
      "         [ 0.2256,  0.7519, -0.4472]]], grad_fn=<CopySlices>)\n",
      "tensor([[[-0.5873,  0.3653,  0.3944],\n",
      "         [ 0.2256,  0.7519, -0.4472]]], grad_fn=<UnsqueezeBackward0>)\n"
     ]
    }
   ],
   "source": [
    "import torch\n",
    "import torch.nn as nn\n",
    "bs, T = 2, 3#batch_size和序列长度\n",
    "input_size , hidden_size = 2, 3\n",
    "input = torch.randn(bs, T, input_size) #随机初始化一个输入特征序列\n",
    "h_prev = torch.zeros(bs , hidden_size) #初始（第0时刻）隐含状态\n",
    "\n",
    "#step1 调用pytorch rnn api\n",
    "rnn = nn.RNN(input_size, hidden_size,batch_first = True)\n",
    "rnn_output, state_final = rnn(input, h_prev.unsqueeze(0))\n",
    "# print(h_prev.unsqueeze(0).shape)\n",
    "print(rnn_output)\n",
    "print(state_final)\n",
    "\n",
    "\n",
    "#step2 手写一个rnn_forward函数,由于1.0版本之后RNN的核心函数是用C语言写的，这里先不看了\n",
    "def rnn_forward(input, weight_ih,  weight_hh, bias_ih,bias_hh, h_prev):\n",
    "    bs, T, input_size = input.shape\n",
    "    h_dim = weight_ih.shape[0]\n",
    "    h_out = torch.zeros(bs, T, h_dim) #初始化一个输出\n",
    "\n",
    "    for t in range(T):\n",
    "        x = input[:,t, :].unsqueeze(2) #获取当前时刻输入 bs * input_size * 1\n",
    "        w_ih_batch = weight_ih.unsqueeze(0).tile(bs,1,1) #bs*h_dim*input_size1,2,3\n",
    "        w_hh_batch = weight_hh.unsqueeze(0).tile(bs,1,1) #bs * h_dim *h_dim\n",
    "\n",
    "        w_times_x = torch.bmm(w_ih_batch, x).squeeze(-1) #去掉最后1维 bs*h_dim\n",
    "        w_times_h = torch.bmm(w_hh_batch, h_prev.unsqueeze(2)).squeeze(-1) #bs*h_dim\n",
    "        # print(w_times_h.shape)\n",
    "        # print(bias_ih.shape)\n",
    "        h_prev = torch.tanh(w_times_x + bias_ih + w_times_h + bias_hh)#t时刻的输出\n",
    "        h_out[:, t, :] = h_prev\n",
    "\n",
    "    return h_out, h_prev.unsqueeze(0)\n",
    "\n",
    "#验证手写的准确性\n",
    "# for k,v in rnn.named_parameters():\n",
    "#     print(k,v)\n",
    "custom_rnn_output, customm_state_final = \\\n",
    "rnn_forward(input, rnn.weight_ih_l0, rnn.weight_hh_l0, rnn.bias_ih_l0, rnn.bias_hh_l0, h_prev)\n",
    "print(custom_rnn_output)\n",
    "print(customm_state_final)"
   ]
  },
  {
   "cell_type": "code",
   "execution_count": 29,
   "metadata": {},
   "outputs": [
    {
     "name": "stdout",
     "output_type": "stream",
     "text": [
      "torch.Size([2, 3, 2])\n",
      "tensor([[[ 0.2760, -0.0069, -0.5394, -0.6023, -0.8299,  0.4788],\n",
      "         [ 0.2576,  0.7831, -0.4671,  0.0680, -0.4369, -0.1669],\n",
      "         [ 0.4671,  0.0510, -0.9003, -0.8580,  0.0632,  0.5948]],\n",
      "\n",
      "        [[ 0.6516, -0.2474, -0.7960, -0.7446,  0.2857,  0.5412],\n",
      "         [ 0.7751,  0.3338, -0.7345, -0.3145, -0.0457,  0.2821],\n",
      "         [ 0.3365,  0.6906, -0.5649, -0.4892, -0.6540,  0.0592]]],\n",
      "       grad_fn=<TransposeBackward1>)\n",
      "tensor([[[ 0.2760, -0.0069, -0.5394, -0.6023, -0.8299,  0.4788],\n",
      "         [ 0.2576,  0.7831, -0.4671,  0.0680, -0.4369, -0.1669],\n",
      "         [ 0.4671,  0.0510, -0.9003, -0.8580,  0.0632,  0.5948]],\n",
      "\n",
      "        [[ 0.6516, -0.2474, -0.7960, -0.7446,  0.2857,  0.5412],\n",
      "         [ 0.7751,  0.3338, -0.7345, -0.3145, -0.0457,  0.2821],\n",
      "         [ 0.3365,  0.6906, -0.5649, -0.4892, -0.6540,  0.0592]]],\n",
      "       grad_fn=<CopySlices>)\n",
      "tensor([[[ 0.4671,  0.0510, -0.9003],\n",
      "         [ 0.3365,  0.6906, -0.5649]],\n",
      "\n",
      "        [[-0.6023, -0.8299,  0.4788],\n",
      "         [-0.7446,  0.2857,  0.5412]]], grad_fn=<StackBackward>)\n",
      "tensor([[[ 0.4671,  0.0510, -0.9003],\n",
      "         [ 0.3365,  0.6906, -0.5649]],\n",
      "\n",
      "        [[-0.8580,  0.0632,  0.5948],\n",
      "         [-0.4892, -0.6540,  0.0592]]], grad_fn=<TransposeBackward0>)\n"
     ]
    }
   ],
   "source": [
    "#step3 手写一个bidirectional_rnn_forward函数，实现双向rnn计算原理\n",
    "def bidirectional_rnn_forward(input,weight_ih,weight_hh,bias_ih,bias_hh,h_prev,\\\n",
    "    weight_ih_reverse,weight_hh_reverse,bias_ih_reverse,bias_hh_reverse,h_prev_reverse):\n",
    "    bs, T, input_size = input.shape\n",
    "    h_dim = weight_ih.shape[0]\n",
    "    h_out = torch.zeros(bs, T, h_dim * 2) #初始化一个输出,双向是两倍\n",
    "    \n",
    "    forward_output = rnn_forward(input,weight_ih,weight_hh,bias_ih, bias_hh, h_prev)[0]\n",
    "    #对于input在长度维度上翻转\n",
    "    # print(input.shape)\n",
    "    backward_output = rnn_forward(torch.flip(input, [1]),\\\n",
    "        weight_ih_reverse,weight_hh_reverse,bias_ih_reverse,bias_hh_reverse,h_prev_reverse)[0]\n",
    "\n",
    "    # print(backward_output.type)\n",
    "    backward_output = torch.flip(backward_output, [1])\n",
    "    h_out[:,:,:h_dim] = forward_output\n",
    "    h_out[:,:,h_dim:] = backward_output\n",
    "\n",
    "    return h_out, h_out[:,-1,:].reshape((bs,2,h_dim)).transpose(0, 1)\n",
    "\n",
    "bi_rnn = nn.RNN(input_size, hidden_size,batch_first = True, bidirectional = True)\n",
    "h_prev = torch.zeros(2, bs, hidden_size)\n",
    "bi_rnn_output, bi_rnn_state_final = bi_rnn(input, h_prev)\n",
    "# for k,v in bi_rnn.named_parameters():\n",
    "#     print(k,v)\n",
    "\n",
    "custom_bi_rnn_output, customm_bi_state_final = \\\n",
    "bidirectional_rnn_forward(input, bi_rnn.weight_ih_l0, bi_rnn.weight_hh_l0, bi_rnn.bias_ih_l0, bi_rnn.bias_hh_l0, h_prev[0],\\\n",
    "    bi_rnn.weight_ih_l0_reverse, bi_rnn.weight_hh_l0_reverse, bi_rnn.bias_ih_l0_reverse, bi_rnn.bias_hh_l0_reverse, h_prev[1]   )\n",
    "\n",
    "print(bi_rnn_output)\n",
    "print(custom_bi_rnn_output)\n",
    "print(bi_rnn_state_final)\n",
    "print(customm_bi_state_final)\n"
   ]
  },
  {
   "cell_type": "code",
   "execution_count": null,
   "metadata": {},
   "outputs": [],
   "source": []
  },
  {
   "cell_type": "code",
   "execution_count": null,
   "metadata": {},
   "outputs": [],
   "source": []
  },
  {
   "cell_type": "code",
   "execution_count": null,
   "metadata": {},
   "outputs": [],
   "source": []
  },
  {
   "cell_type": "code",
   "execution_count": null,
   "metadata": {},
   "outputs": [],
   "source": []
  }
 ],
 "metadata": {
  "kernelspec": {
   "display_name": "Python 3.8.5 ('base')",
   "language": "python",
   "name": "python3"
  },
  "language_info": {
   "codemirror_mode": {
    "name": "ipython",
    "version": 3
   },
   "file_extension": ".py",
   "mimetype": "text/x-python",
   "name": "python",
   "nbconvert_exporter": "python",
   "pygments_lexer": "ipython3",
   "version": "3.8.5"
  },
  "orig_nbformat": 4,
  "vscode": {
   "interpreter": {
    "hash": "88279d2366fe020547cde40dd65aa0e3aa662a6ec1f3ca12d88834876c85e1a6"
   }
  }
 },
 "nbformat": 4,
 "nbformat_minor": 2
}
